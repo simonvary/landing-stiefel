{
 "cells": [
  {
   "cell_type": "code",
   "execution_count": 1,
   "metadata": {},
   "outputs": [
    {
     "data": {
      "text/plain": [
       "<torch._C.Generator at 0x7f6a728a2950>"
      ]
     },
     "execution_count": 1,
     "metadata": {},
     "output_type": "execute_result"
    }
   ],
   "source": [
    "\"\"\"\n",
    "A simple example of the Stiefel landing algorithm on PCA problem\n",
    "\"\"\"\n",
    "from time import time\n",
    "\n",
    "import matplotlib.pyplot as plt\n",
    "\n",
    "import numpy as np\n",
    "import torch\n",
    "import geoopt\n",
    "from geoopt.optim import RiemannianSGD\n",
    "\n",
    "from landing_stiefel import LandingStiefelSGD\n",
    "from plam import PLAMStiefelSGD\n",
    "\n",
    "\n",
    "torch.manual_seed(0)"
   ]
  },
  {
   "cell_type": "code",
   "execution_count": 2,
   "metadata": {},
   "outputs": [],
   "source": [
    "m = 20000        # Dimension of samples\n",
    "n = 500         # Number of samples\n",
    "p = 100          # Dimension of the subspace\n",
    "\n",
    "batch_size = 10000\n",
    "\n",
    "N_runs = 20\n",
    "\n",
    "method_names = [\"Landing\", 'PLAM', \"Retraction\"]\n",
    "methods =  [LandingStiefelSGD, PLAMStiefelSGD, RiemannianSGD]\n",
    "ns_epochs = [1000, 1000, 1000]\n",
    "\n",
    "learning_rate = 1e-3\n",
    "\n",
    "\n",
    "device = 'cuda'\n",
    "\n",
    "def generate_problem(m, n, p, sdev = 1):\n",
    "    '''\n",
    "    Generates A = L + N where L = U @ S @ V^T is a rank-r and \n",
    "    N is Gaussian noise\n",
    "    \n",
    "    '''\n",
    "    U, _ = torch.linalg.qr(torch.randn(m,p), mode='reduced')\n",
    "    V, _ = torch.linalg.qr(torch.randn(n,p), mode='reduced')\n",
    "    S = torch.linspace(1, 0.5, steps=p)\n",
    "    S = S / np.linalg.norm(S, 2)\n",
    "    L = U @ S.diag() @ V.transpose(-1, -2)\n",
    "    A = L + sdev * torch.randn(m,n)\n",
    "    return A"
   ]
  },
  {
   "cell_type": "code",
   "execution_count": 3,
   "metadata": {},
   "outputs": [
    {
     "name": "stdout",
     "output_type": "stream",
     "text": [
      "Starting the run 0\n",
      "Starting the run 1\n",
      "Starting the run 2\n",
      "Starting the run 3\n",
      "Starting the run 4\n",
      "Starting the run 5\n",
      "Starting the run 6\n",
      "Starting the run 7\n",
      "Starting the run 8\n",
      "Starting the run 9\n",
      "Starting the run 10\n",
      "Starting the run 11\n",
      "Starting the run 12\n",
      "Starting the run 13\n",
      "Starting the run 14\n",
      "Starting the run 15\n",
      "Starting the run 16\n",
      "Starting the run 17\n",
      "Starting the run 18\n",
      "Starting the run 19\n",
      "Starting the run 0\n",
      "Starting the run 1\n",
      "Starting the run 2\n",
      "Starting the run 3\n",
      "Starting the run 4\n",
      "Starting the run 5\n",
      "Starting the run 6\n",
      "Starting the run 7\n",
      "Starting the run 8\n",
      "Starting the run 9\n",
      "Starting the run 10\n",
      "Starting the run 11\n",
      "Starting the run 12\n",
      "Starting the run 13\n",
      "Starting the run 14\n",
      "Starting the run 15\n",
      "Starting the run 16\n",
      "Starting the run 17\n",
      "Starting the run 18\n",
      "Starting the run 19\n",
      "Starting the run 0\n",
      "Starting the run 1\n",
      "Starting the run 2\n",
      "Starting the run 3\n",
      "Starting the run 4\n",
      "Starting the run 5\n",
      "Starting the run 6\n",
      "Starting the run 7\n",
      "Starting the run 8\n",
      "Starting the run 9\n",
      "Starting the run 10\n",
      "Starting the run 11\n",
      "Starting the run 12\n",
      "Starting the run 13\n",
      "Starting the run 14\n",
      "Starting the run 15\n",
      "Starting the run 16\n",
      "Starting the run 17\n",
      "Starting the run 18\n",
      "Starting the run 19\n"
     ]
    }
   ],
   "source": [
    "time_list = {}\n",
    "loss_list = {}\n",
    "distance_list = {}\n",
    "\n",
    "for method_name, method, n_epochs in zip(method_names, methods, ns_epochs):\n",
    "    time_list[method_name] = []\n",
    "    loss_list[method_name] = []\n",
    "    distance_list[method_name] = []\n",
    "    for run_i in range(N_runs):\n",
    "        print('Starting the run '+str(run_i))\n",
    "        \n",
    "        A = generate_problem(m, n, p, sdev=0.)        \n",
    "        A = A.to(device)\n",
    "\n",
    "        # Compute the true solution\n",
    "        _, _, vh = torch.linalg.svd(A, full_matrices=False)\n",
    "        x_star = vh[:p,:].T\n",
    "        loss_star = -.5 * (torch.matmul(A, x_star) ** 2).sum() / m\n",
    "        loss_star = loss_star.item()\n",
    "\n",
    "        # Project randn point on the manifold\n",
    "        init_weights = torch.randn(n, p).to(device)\n",
    "        param = geoopt.ManifoldParameter(\n",
    "            init_weights.clone(), manifold=geoopt.Stiefel(canonical=False)\n",
    "        )\n",
    "        with torch.no_grad():\n",
    "            param.proj_()\n",
    "\n",
    "\n",
    "        optimizer = method((param,), lr=learning_rate)\n",
    "        t0 = time()\n",
    "        for epoch in range(n_epochs):\n",
    "            optimizer.zero_grad()\n",
    "            idx = epoch % (m // batch_size)\n",
    "            a = A[idx * batch_size: (idx + 1) * batch_size]\n",
    "            loss = -.5 * (torch.matmul(a, param) ** 2).sum() / batch_size\n",
    "            loss.backward()\n",
    "            optimizer.step()\n",
    "        \n",
    "        t_final = time() - t0\n",
    "        time_list[method_name].append(t_final)\n",
    "        loss_list[method_name].append(loss.item() - loss_star)\n",
    "        #print(loss.item() - loss_star)\n",
    "        distance = torch.norm(param.data.transpose(-1, -2).matmul(param.data) - \n",
    "                        torch.eye(p, device=param.data.device))\n",
    "        #print(distance.item())\n",
    "        distance_list[method_name].append(distance.item())"
   ]
  },
  {
   "cell_type": "code",
   "execution_count": 4,
   "metadata": {},
   "outputs": [
    {
     "data": {
      "image/png": "[encoded data removed]",
      "text/plain": [
       "<Figure size 432x288 with 1 Axes>"
      ]
     },
     "metadata": {
      "needs_background": "light"
     },
     "output_type": "display_data"
    }
   ],
   "source": [
    "# Create a figure instance\n",
    "fig = plt.figure()\n",
    "# Create an axes instance\n",
    "ax = fig.add_axes([0,0,1,1])\n",
    "# Create the boxplot\n",
    "bp = ax.violinplot([loss_list['Landing'], loss_list['PLAM'], loss_list['Retraction']], showmeans=True, showextrema=True)\n",
    "plt.show()"
   ]
  },
  {
   "cell_type": "code",
   "execution_count": 5,
   "metadata": {},
   "outputs": [
    {
     "data": {
      "image/png": "[encoded data removed]",
      "text/plain": [
       "<Figure size 432x288 with 1 Axes>"
      ]
     },
     "metadata": {
      "needs_background": "light"
     },
     "output_type": "display_data"
    }
   ],
   "source": [
    "# Create a figure instance\n",
    "fig = plt.figure()\n",
    "# Create an axes instance\n",
    "ax = fig.add_axes([0,0,1,1])\n",
    "# Create the boxplot\n",
    "bp = ax.violinplot([distance_list['Landing'], distance_list['PLAM'], distance_list['Retraction']], showmeans=True, showextrema=True)\n",
    "plt.show()"
   ]
  },
  {
   "cell_type": "code",
   "execution_count": 6,
   "metadata": {},
   "outputs": [
    {
     "name": "stdout",
     "output_type": "stream",
     "text": [
      "1.4816213607788087\n",
      "1.4190149068832398\n",
      "1.4094677805900573\n"
     ]
    }
   ],
   "source": [
    "print(np.mean(time_list['Landing']))\n",
    "print(np.mean(time_list['PLAM']))\n",
    "print(np.mean(time_list['Retraction']))"
   ]
  },
  {
   "cell_type": "code",
   "execution_count": 7,
   "metadata": {},
   "outputs": [
    {
     "name": "stdout",
     "output_type": "stream",
     "text": [
      "1.3093616018977627e-06\n",
      "1.4190149068832398\n",
      "2.3958967972248503e-06\n"
     ]
    }
   ],
   "source": [
    "print(np.mean(distance_list['Landing']))\n",
    "print(np.mean(time_list['PLAM']))\n",
    "print(np.mean(distance_list['Retraction']))"
   ]
  },
  {
   "cell_type": "code",
   "execution_count": 8,
   "metadata": {},
   "outputs": [
    {
     "name": "stdout",
     "output_type": "stream",
     "text": [
      "2.0024847844979377e-05\n",
      "1.999883036205574e-05\n",
      "1.9993930845885188e-05\n"
     ]
    }
   ],
   "source": [
    "print(np.mean(loss_list['Landing']))\n",
    "print(np.mean(loss_list['PLAM']))\n",
    "print(np.mean(loss_list['Retraction']))"
   ]
  },
  {
   "cell_type": "code",
   "execution_count": null,
   "metadata": {},
   "outputs": [],
   "source": []
  }
 ],
 "metadata": {
  "interpreter": {
   "hash": "68569eb8e34577919d4347cfcfb4feac59789a0011d22ac642558bb83eb2daac"
  },
  "kernelspec": {
   "display_name": "Python 3.8.5 ('landing')",
   "language": "python",
   "name": "python3"
  },
  "language_info": {
   "codemirror_mode": {
    "name": "ipython",
    "version": 3
   },
   "file_extension": ".py",
   "mimetype": "text/x-python",
   "name": "python",
   "nbconvert_exporter": "python",
   "pygments_lexer": "ipython3",
   "version": "3.8.5"
  },
  "orig_nbformat": 4
 },
 "nbformat": 4,
 "nbformat_minor": 2
}
