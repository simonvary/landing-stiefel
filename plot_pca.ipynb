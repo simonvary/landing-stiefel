{
 "cells": [
  {
   "cell_type": "code",
   "execution_count": 1,
   "metadata": {},
   "outputs": [
    {
     "data": {
      "text/plain": [
       "<torch._C.Generator at 0x7f62fa900950>"
      ]
     },
     "execution_count": 1,
     "metadata": {},
     "output_type": "execute_result"
    }
   ],
   "source": [
    "\"\"\"\n",
    "A simple example of the Stiefel landing algorithm on PCA problem\n",
    "\"\"\"\n",
    "from time import time\n",
    "\n",
    "import matplotlib.pyplot as plt\n",
    "\n",
    "import torch\n",
    "import geoopt\n",
    "\n",
    "from geoopt.optim import RiemannianSGD, RiemannianLineSearch\n",
    "from landing_stiefel import LandingStiefelSGD\n",
    "from plam import PLAMStiefelSGD\n",
    "\n",
    "torch.manual_seed(0)"
   ]
  },
  {
   "cell_type": "code",
   "execution_count": 11,
   "metadata": {},
   "outputs": [],
   "source": [
    "m = 10000        # Number of samples\n",
    "n = 2000        # Dimension of samples\n",
    "p = 1800          # Dimension of the subspace\n",
    "\n",
    "batch_size = m\n",
    "\n",
    "method_names = [\"RiemannianSGD\", \"Landing-ABB\", \"Landing\"] #, \"Landing\", \"Landing-WNGrad\"]\n",
    "methods =  [RiemannianSGD, LandingStiefelSGD, LandingStiefelSGD]\n",
    "learning_rates = [0.1, 'ABB', 0.1] #'WNGrad']\n",
    "ns_epochs = [200, 200, 200]\n",
    "\n",
    "lambda_regul = 1.0\n",
    "safe_step = []\n",
    "#normalize_columns = False\n",
    "\n",
    "device = 'cuda'\n",
    "\n",
    "def generate_problem(m, n, p, sdev = 0):\n",
    "    '''\n",
    "    Generates A = L + N where L = U @ S @ V^T is a rank-r and \n",
    "    N is Gaussian noise\n",
    "    '''\n",
    "    U, _ = torch.linalg.qr(torch.randn(m,p), mode='reduced')\n",
    "    V, _ = torch.linalg.qr(torch.randn(n,p), mode='reduced')\n",
    "    S = torch.linspace(1, 0.5, steps=p)\n",
    "    L = U @ S.diag() @ V.transpose(-1, -2)\n",
    "    L = (L - L.mean(dim=0)) / L.std(dim=0) # zero mean, st. dev. one\n",
    "    A = L + sdev * torch.randn(m,n)\n",
    "    return A"
   ]
  },
  {
   "cell_type": "code",
   "execution_count": 12,
   "metadata": {},
   "outputs": [
    {
     "data": {
      "image/png": "[encoded data removed]",
      "text/plain": [
       "<Figure size 432x288 with 2 Axes>"
      ]
     },
     "metadata": {
      "needs_background": "light"
     },
     "output_type": "display_data"
    }
   ],
   "source": [
    "# generate random matrices\n",
    "noise_level = 0\n",
    "A = generate_problem(m, n, p, sdev=noise_level)        \n",
    "A = A.to(device)\n",
    "\n",
    "objective = lambda x : -.5 * (torch.matmul(A, x) ** 2).sum().item() / m\n",
    "\n",
    "init_weights = torch.randn(n, p)\n",
    "\n",
    "device = 'cuda'\n",
    "A = A.to(device)\n",
    "init_weights = init_weights.to(device)\n",
    "\n",
    "# Compute the exact solution using SVD\n",
    "_, _, vh = torch.linalg.svd(A, full_matrices = False)\n",
    "x_star = vh[:p,:].T\n",
    "\n",
    "# Objective: min -(1/2) * \\| AX \\|^2_F\n",
    "loss_star = objective(x_star)\n",
    "\n",
    "f, axes = plt.subplots(2, 1)\n",
    "for method_name, method, n_epochs, learning_rate in zip(method_names, methods, ns_epochs, learning_rates):\n",
    "    iterates = []\n",
    "    loss_list = []\n",
    "    time_list = []\n",
    "\n",
    "    param = geoopt.ManifoldParameter(\n",
    "        init_weights.clone(), manifold=geoopt.Stiefel(canonical=False)\n",
    "    )\n",
    "    with torch.no_grad():\n",
    "        param.proj_()\n",
    "    if method_name in ('Landing', 'PLAM'):\n",
    "        optimizer = method((param,), lr=learning_rate, \n",
    "                        lambda_regul=lambda_regul, \n",
    "                        safe_step = safe_step)\n",
    "    else:\n",
    "        optimizer = method((param,), lr = learning_rate)\n",
    "    \n",
    "    t0 = time()\n",
    "    for epoch in range(n_epochs):\n",
    "        if method_name in ('RetractionLineSearch'):\n",
    "            def closure():\n",
    "                optimizer.zero_grad()\n",
    "                idx = epoch % (m // batch_size)\n",
    "                a = A[idx * batch_size: (idx + 1) * batch_size]\n",
    "                loss = -.5 * (torch.matmul(a, param) ** 2).sum() / (batch_size)\n",
    "                loss.backward()\n",
    "                return loss.item()\n",
    "            optimizer.step(closure)\n",
    "        else:\n",
    "            optimizer.zero_grad()\n",
    "            idx = epoch % (m // batch_size)\n",
    "            a = A[idx * batch_size: (idx + 1) * batch_size]\n",
    "            loss = -.5 * (torch.matmul(a, param) ** 2).sum() / (batch_size)\n",
    "            loss.backward()\n",
    "            optimizer.step()\n",
    "            \n",
    "        time_list.append(time() - t0)\n",
    "        loss_list.append(loss.item() - loss_star)\n",
    "        iterates.append(param.data.clone())\n",
    "\n",
    "    distance_list = []\n",
    "    for matrix in iterates:\n",
    "        d = (\n",
    "            torch.norm(matrix.transpose(-1, -2).matmul(matrix) - torch.eye(p, device=matrix.device))\n",
    "        )\n",
    "        distance_list.append(d.item())\n",
    "    axes[0].semilogy(time_list, distance_list, label=method_name)\n",
    "    axes[1].semilogy(time_list, loss_list, label=method_name)\n",
    "\n",
    "axes[0].set_xlabel(\"time (s.)\")\n",
    "axes[1].set_xlabel(\"time (s.)\")\n",
    "axes[0].set_ylabel(\"Orthogonality error\")\n",
    "axes[1].set_ylabel(\"f - f^*\")\n",
    "axes[1].set_yscale('linear')\n",
    "plt.legend()\n",
    "plt.show()"
   ]
  },
  {
   "cell_type": "code",
   "execution_count": null,
   "metadata": {},
   "outputs": [],
   "source": []
  },
  {
   "cell_type": "code",
   "execution_count": null,
   "metadata": {},
   "outputs": [],
   "source": []
  }
 ],
 "metadata": {
  "interpreter": {
   "hash": "68569eb8e34577919d4347cfcfb4feac59789a0011d22ac642558bb83eb2daac"
  },
  "kernelspec": {
   "display_name": "Python 3.8.5 ('landing')",
   "language": "python",
   "name": "python3"
  },
  "language_info": {
   "codemirror_mode": {
    "name": "ipython",
    "version": 3
   },
   "file_extension": ".py",
   "mimetype": "text/x-python",
   "name": "python",
   "nbconvert_exporter": "python",
   "pygments_lexer": "ipython3",
   "version": "3.8.5"
  },
  "orig_nbformat": 4
 },
 "nbformat": 4,
 "nbformat_minor": 2
}
