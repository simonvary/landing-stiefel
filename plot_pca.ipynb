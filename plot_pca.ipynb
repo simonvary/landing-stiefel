{
 "cells": [
  {
   "cell_type": "code",
   "execution_count": 1,
   "metadata": {},
   "outputs": [
    {
     "data": {
      "text/plain": [
       "<torch._C.Generator at 0x7efffe6dc970>"
      ]
     },
     "execution_count": 1,
     "metadata": {},
     "output_type": "execute_result"
    }
   ],
   "source": [
    "\"\"\"\n",
    "A simple example of the Stiefel landing algorithm on PCA problem\n",
    "\"\"\"\n",
    "from time import time\n",
    "\n",
    "import matplotlib.pyplot as plt\n",
    "\n",
    "import torch\n",
    "import geoopt\n",
    "from geoopt.optim import RiemannianSGD\n",
    "\n",
    "from landing_stiefel import LandingStiefelSGD\n",
    "\n",
    "torch.manual_seed(0)"
   ]
  },
  {
   "cell_type": "code",
   "execution_count": 5,
   "metadata": {},
   "outputs": [
    {
     "data": {
      "image/png": "[encoded data removed]",
      "text/plain": [
       "<Figure size 432x288 with 2 Axes>"
      ]
     },
     "metadata": {
      "needs_background": "light"
     },
     "output_type": "display_data"
    }
   ],
   "source": [
    "# generate random matrices\n",
    "\n",
    "m = 1000     # number of samples\n",
    "n = 100      # dimension of samples\n",
    "p = 50       # number of principal components\n",
    "batch_size = 1000\n",
    "noise_level = 1e-3\n",
    "A = torch.randn(m, p) @ torch.randn(p, n)\n",
    "A += torch.randn(m, n)\n",
    "init_weights = torch.randn(n, p)\n",
    "\n",
    "device = 'cpu'\n",
    "A = A.to(device)\n",
    "init_weights = init_weights.to(device)\n",
    "\n",
    "_, _, vh = torch.linalg.svd(A, full_matrices = False)\n",
    "x_star = vh[:p,:].T\n",
    "\n",
    "# Objective: min -(1/2) * \\| AX \\|^2_F\n",
    "loss_star = -.5 * (torch.matmul(A, x_star) ** 2).sum() / m\n",
    "loss_star = loss_star.item()\n",
    "\n",
    "\n",
    "method_names = [\"Landing\", \"Retraction\"] # \"Retraction\",\n",
    "methods =  [LandingStiefelSGD, RiemannianSGD] # RiemannianSGD\n",
    "\n",
    "learning_rate = 1e-2\n",
    "\n",
    "f, axes = plt.subplots(2, 1)\n",
    "for method_name, method, n_epochs in zip(method_names, methods, [500, 500]):\n",
    "    iterates = []\n",
    "    loss_list = []\n",
    "    time_list = []\n",
    "\n",
    "    param = geoopt.ManifoldParameter(\n",
    "        init_weights.clone(), manifold=geoopt.Stiefel(canonical=False)\n",
    "    )\n",
    "    with torch.no_grad():\n",
    "        param.proj_()\n",
    "    optimizer = method((param,), lr=learning_rate)\n",
    "    t0 = time()\n",
    "    for epoch in range(n_epochs):\n",
    "\n",
    "        optimizer.zero_grad()\n",
    "        idx = epoch % (m // batch_size)\n",
    "        a = A[idx * batch_size: (idx + 1) * batch_size]\n",
    "        loss = -.5 * (torch.matmul(a, param) ** 2).sum() / batch_size\n",
    "        loss.backward()\n",
    "        time_list.append(time() - t0)\n",
    "        loss_list.append(loss.item() - loss_star)\n",
    "        iterates.append(param.data.clone())\n",
    "        optimizer.step()\n",
    "\n",
    "    distance_list = []\n",
    "    for matrix in iterates:\n",
    "        d = (\n",
    "            torch.norm(matrix.transpose(-1, -2).matmul(matrix) - torch.eye(p, device=matrix.device))\n",
    "        )\n",
    "        distance_list.append(d.item())\n",
    "    axes[0].semilogy(time_list, distance_list, label=method_name)\n",
    "    axes[1].semilogy(time_list, loss_list, label=method_name)\n",
    "\n",
    "axes[0].set_xlabel(\"time (s.)\")\n",
    "axes[1].set_xlabel(\"time (s.)\")\n",
    "axes[0].set_ylabel(\"Orthogonality error\")\n",
    "axes[1].set_ylabel(\"f - f^*\")\n",
    "axes[1].set_yscale('linear')\n",
    "plt.legend()\n",
    "plt.show()"
   ]
  },
  {
   "cell_type": "code",
   "execution_count": null,
   "metadata": {},
   "outputs": [],
   "source": []
  }
 ],
 "metadata": {
  "interpreter": {
   "hash": "68569eb8e34577919d4347cfcfb4feac59789a0011d22ac642558bb83eb2daac"
  },
  "kernelspec": {
   "display_name": "Python 3.8.5 ('landing')",
   "language": "python",
   "name": "python3"
  },
  "language_info": {
   "codemirror_mode": {
    "name": "ipython",
    "version": 3
   },
   "file_extension": ".py",
   "mimetype": "text/x-python",
   "name": "python",
   "nbconvert_exporter": "python",
   "pygments_lexer": "ipython3",
   "version": "3.8.5"
  },
  "orig_nbformat": 4
 },
 "nbformat": 4,
 "nbformat_minor": 2
}
